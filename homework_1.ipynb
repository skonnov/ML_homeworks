{
 "cells": [
  {
   "cell_type": "markdown",
   "id": "4fcc43a4",
   "metadata": {},
   "source": [
    "# Классификация уровня серьёзности дорожных происшествий в Америке, штат Огайо за 2016-2020 гг.\n",
    "\n",
    "### Имеется следующий набор данных:\n",
    "1. Severity - степень серьёзности аварии;\n",
    "2. Start_Time - время начала дорожного происшествия;\n",
    "3. End_Time - время окончания дорожного происшествия (обозначает время, когда происшествие перестаёт влиять на транспортный поток);\n",
    "4. Start_Lat - широта координат точки начала происшествия по данным GPS;\n",
    "5. Start_Lng - долгота координат точки начала происшествия по данным GPS;\n",
    "6. End_Lat - широта координат точки окончания происшествия по данным GPS;\n",
    "7. End_Lng - долгота координат точки окончания происшествия по данным GPS;\n",
    "8. Distance - длина дороги, задействованная происшествием;\n",
    "9. Description - описание происшествия;\n",
    "10. Number - номер улицы, на которой произошло происшествие;\n",
    "11. Street - название улицы, на которой произошло происшествие;\n",
    "12. Side - сторона дороги, на которой произошло происшествие;\n",
    "13. City - город;\n",
    "14. County - округ;\n",
    "15. State - штат;\n",
    "16. Zipcode - почтовый индекс в записи адреса места, в котором произошло происшествие;\n",
    "17. Country - страна;\n",
    "18. Timezone - часовой пояс;\n",
    "19. Airport_Code - кол ближайшего аэропорта;\n",
    "20. Weather_Time - время, в которое записаны данные о погоде;\n",
    "21. Temperature - температура;\n",
    "22. Wind_Chill - ветро-холодовой индекс;\n",
    "23. Humidity - влажность воздуха;\n",
    "24. Pressure - давление воздуха;\n",
    "25. Visibility - видимость;\n",
    "26. Wind_Direction - направление ветра;\n",
    "27. Wind_Speed - скорость ветра;\n",
    "28. Precipitation - количество осадков;\n",
    "29. Weather_Condition - состояние погоды;\n",
    "30. Amenity - наличие удобств поблизости от места происшествия;\n",
    "31. Bump - наличие искусственных неровностей на дороге (лежачие полицейские или неровная дорога);\n",
    "32. Crossing - наличие пересечения дорог поблизости от места происшествия;\n",
    "33. Give_Way - наличие условий, в которых один участник дорожного движения должен уступить дорогу другому;\n",
    "34. Junction - наличие перекрёстков поблизости от места происшествия;\n",
    "35. No_Exit - наличие тупиков поблизости от места происшествия;\n",
    "36. Railway - наличие железных дорог поблизости от места происшествия;\n",
    "37. Roundabout - наличие кругового движения поблизости от места происшествия;\n",
    "38. Station - наличие ж/д, метро и пр. станций поблизости от места происшествия;\n",
    "39. Stop - наличие знака \"Стоп\" поблизости от места происшествия;\n",
    "40. Traffic_Calming - наличие на дороге мер по замедлению дорожного движения;\n",
    "41. Traffic_Signal - наличие светофоров;\n",
    "42. Turning_Loop - наличие разворота;\n",
    "43. Sunrise_Sunset - восход или закат;\n",
    "44. Civil_Twilight - гражданские сумерки;\n",
    "45. Nautical_Twilight - навигационные сумерки;\n",
    "46. Astronomical_Twilight - астрономические сумерки;\n",
    "\n",
    "По данному набору данных необходимо предсказать степень серьёзности дорожных происшествий. Целевая переменная - severity, может принимать целые значения из диапазона \\[1, 4\\]."
   ]
  },
  {
   "cell_type": "markdown",
   "id": "031a66e2",
   "metadata": {},
   "source": [
    "## 1. Чтение данных из файла"
   ]
  },
  {
   "cell_type": "code",
   "execution_count": null,
   "id": "74c6b6b2",
   "metadata": {},
   "outputs": [],
   "source": [
    "import numpy as np\n",
    "import matplotlib.pyplot as plt\n",
    "import pandas as pd\n",
    "import seaborn as sns\n",
    "import sklearn\n",
    "%matplotlib inline "
   ]
  },
  {
   "cell_type": "code",
   "execution_count": null,
   "id": "5abfafb4",
   "metadata": {},
   "outputs": [],
   "source": [
    "path = \"./US_Accidents_OH_state.csv\"\n",
    "data = pd.read_csv(path)"
   ]
  },
  {
   "cell_type": "markdown",
   "id": "4a6d09d6",
   "metadata": {},
   "source": [
    "Первые и последние значения из таблицы данных:"
   ]
  },
  {
   "cell_type": "code",
   "execution_count": null,
   "id": "eb3bc93b",
   "metadata": {
    "scrolled": true
   },
   "outputs": [],
   "source": [
    "data.head()"
   ]
  },
  {
   "cell_type": "code",
   "execution_count": null,
   "id": "d6eeb296",
   "metadata": {
    "scrolled": true
   },
   "outputs": [],
   "source": [
    "data.tail()"
   ]
  },
  {
   "cell_type": "markdown",
   "id": "7743f7f0",
   "metadata": {},
   "source": [
    "Более подробное описание данных датасета:"
   ]
  },
  {
   "cell_type": "code",
   "execution_count": null,
   "id": "9169a25f",
   "metadata": {},
   "outputs": [],
   "source": [
    "data.info()"
   ]
  },
  {
   "cell_type": "markdown",
   "id": "2b1dc911",
   "metadata": {},
   "source": [
    "## 2. Визуализация данных и вычисление основных характеристик"
   ]
  },
  {
   "cell_type": "markdown",
   "id": "de9d65ec",
   "metadata": {},
   "source": [
    "Как видно из следующего графика, распределение целевой переменной несбалансированно:"
   ]
  },
  {
   "cell_type": "code",
   "execution_count": null,
   "id": "dfd98aa5",
   "metadata": {},
   "outputs": [],
   "source": [
    "data.Severity.value_counts().plot.pie()\n",
    "pass"
   ]
  },
  {
   "cell_type": "markdown",
   "id": "37dd2795",
   "metadata": {},
   "source": [
    "Выберем бинарные, числовые и некоторые категориальные признаки:"
   ]
  },
  {
   "cell_type": "code",
   "execution_count": null,
   "id": "3bbd4526",
   "metadata": {},
   "outputs": [],
   "source": [
    "binaries = data.select_dtypes(include='bool')\n",
    "numerics = data.select_dtypes(include='float64')\n",
    "categorials =  data[['Side', 'Wind_Direction', 'Weather_Condition', 'Sunrise_Sunset', 'Civil_Twilight', 'Nautical_Twilight', 'Astronomical_Twilight']]"
   ]
  },
  {
   "cell_type": "markdown",
   "id": "83d7cc47",
   "metadata": {},
   "source": [
    "Построим круговые диаграммы для бинарных и категориальных признаков:"
   ]
  },
  {
   "cell_type": "code",
   "execution_count": null,
   "id": "0090aa88",
   "metadata": {},
   "outputs": [],
   "source": [
    "bin_cat = pd.concat((binaries, numerics), axis=1)\n",
    "print(len(bin_cat.columns))\n",
    "print(bin_cat)"
   ]
  },
  {
   "cell_type": "code",
   "execution_count": null,
   "id": "3d998f5d",
   "metadata": {},
   "outputs": [],
   "source": [
    "bin_cat.plot(kind='pie', subplots=True, autopct='%1.1f%%', startangle=270, fontsize=17)\n",
    "display()"
   ]
  },
  {
   "cell_type": "code",
   "execution_count": null,
   "id": "0baa9db4",
   "metadata": {},
   "outputs": [],
   "source": []
  }
 ],
 "metadata": {
  "kernelspec": {
   "display_name": "Python 3 (ipykernel)",
   "language": "python",
   "name": "python3"
  },
  "language_info": {
   "codemirror_mode": {
    "name": "ipython",
    "version": 3
   },
   "file_extension": ".py",
   "mimetype": "text/x-python",
   "name": "python",
   "nbconvert_exporter": "python",
   "pygments_lexer": "ipython3",
   "version": "3.9.7"
  }
 },
 "nbformat": 4,
 "nbformat_minor": 5
}
